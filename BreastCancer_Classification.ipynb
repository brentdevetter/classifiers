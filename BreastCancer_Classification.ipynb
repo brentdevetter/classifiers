{
  "nbformat": 4,
  "nbformat_minor": 0,
  "metadata": {
    "colab": {
      "name": "BreastCancer_Classification.ipynb",
      "version": "0.3.2",
      "provenance": [],
      "collapsed_sections": [],
      "include_colab_link": true
    },
    "kernelspec": {
      "name": "python3",
      "display_name": "Python 3"
    }
  },
  "cells": [
    {
      "cell_type": "markdown",
      "metadata": {
        "id": "view-in-github",
        "colab_type": "text"
      },
      "source": [
        "<a href=\"https://colab.research.google.com/github/brentdevetter/classifiers/blob/master/BreastCancer_Classification.ipynb\" target=\"_parent\"><img src=\"https://colab.research.google.com/assets/colab-badge.svg\" alt=\"Open In Colab\"/></a>"
      ]
    },
    {
      "metadata": {
        "id": "yy461fe1lfhP",
        "colab_type": "code",
        "outputId": "978f53b6-ddfc-4cd8-8c30-58b904ede96c",
        "colab": {
          "base_uri": "https://localhost:8080/",
          "height": 770
        }
      },
      "cell_type": "code",
      "source": [
        "# Using the Wisconsin Breast Cancer Database found in sklearn, build several \n",
        "# classifiers using techniques such as SVM, Random Forest, Naive-Bayes, KNN, etc\n",
        "#\n",
        "#\n",
        "# 2019 BMD\n",
        "\n",
        "# Import the important libraries and dataset\n",
        "from sklearn.datasets import load_breast_cancer\n",
        "import numpy as np\n",
        "import seaborn as sns\n",
        "import pandas as pd\n",
        "import matplotlib.pyplot as plt\n",
        "from sklearn.metrics import accuracy_score\n",
        "from sklearn.model_selection import cross_val_score\n",
        "\n",
        "import time\n",
        "\n",
        "# Load the data set\n",
        "cancer = load_breast_cancer()\n",
        "\n",
        "# Select the input features and put into DataFrame\n",
        "df_features = pd.DataFrame(cancer['data'], columns = cancer['feature_names'])\n",
        "\n",
        "# Select the target data and put into DataFrame\n",
        "df_target = pd.DataFrame(cancer['target'], columns = ['Cancer'])\n",
        "\n",
        "# Show the first few entries\n",
        "print('df_features')\n",
        "print(df_features.head(3))\n",
        "print(df_features.shape)\n",
        "\n",
        "print('df_target')\n",
        "print(df_target.head())\n",
        "print(df_target.shape)\n"
      ],
      "execution_count": 30,
      "outputs": [
        {
          "output_type": "stream",
          "text": [
            "df_features\n",
            "   mean radius  mean texture  mean perimeter  mean area  mean smoothness  \\\n",
            "0        17.99         10.38           122.8     1001.0          0.11840   \n",
            "1        20.57         17.77           132.9     1326.0          0.08474   \n",
            "2        19.69         21.25           130.0     1203.0          0.10960   \n",
            "\n",
            "   mean compactness  mean concavity  mean concave points  mean symmetry  \\\n",
            "0           0.27760          0.3001              0.14710         0.2419   \n",
            "1           0.07864          0.0869              0.07017         0.1812   \n",
            "2           0.15990          0.1974              0.12790         0.2069   \n",
            "\n",
            "   mean fractal dimension           ...             worst radius  \\\n",
            "0                 0.07871           ...                    25.38   \n",
            "1                 0.05667           ...                    24.99   \n",
            "2                 0.05999           ...                    23.57   \n",
            "\n",
            "   worst texture  worst perimeter  worst area  worst smoothness  \\\n",
            "0          17.33            184.6      2019.0            0.1622   \n",
            "1          23.41            158.8      1956.0            0.1238   \n",
            "2          25.53            152.5      1709.0            0.1444   \n",
            "\n",
            "   worst compactness  worst concavity  worst concave points  worst symmetry  \\\n",
            "0             0.6656           0.7119                0.2654          0.4601   \n",
            "1             0.1866           0.2416                0.1860          0.2750   \n",
            "2             0.4245           0.4504                0.2430          0.3613   \n",
            "\n",
            "   worst fractal dimension  \n",
            "0                  0.11890  \n",
            "1                  0.08902  \n",
            "2                  0.08758  \n",
            "\n",
            "[3 rows x 30 columns]\n",
            "(569, 30)\n",
            "df_target\n",
            "   Cancer\n",
            "0       0\n",
            "1       0\n",
            "2       0\n",
            "3       0\n",
            "4       0\n",
            "(569, 1)\n"
          ],
          "name": "stdout"
        }
      ]
    },
    {
      "metadata": {
        "id": "XjZs1DFdn-3i",
        "colab_type": "code",
        "colab": {}
      },
      "cell_type": "code",
      "source": [
        "# Split the data into a training set and a test set!\n",
        "from sklearn.model_selection import train_test_split\n",
        "X_train, X_test, y_train, y_test = train_test_split(df_features, np.ravel(df_target), test_size = 0.30, random_state=49)"
      ],
      "execution_count": 0,
      "outputs": []
    },
    {
      "metadata": {
        "id": "fOiD1GZkllgL",
        "colab_type": "code",
        "outputId": "c9763b8c-0610-4382-b564-e85d319b0e52",
        "colab": {
          "base_uri": "https://localhost:8080/",
          "height": 72
        }
      },
      "cell_type": "code",
      "source": [
        "# Stochastic Gradient Descent\n",
        "# SGD \n",
        "from sklearn.linear_model import SGDClassifier\n",
        "accuracy_all = []\n",
        "cvs_all = [] \n",
        "\n",
        "start = time.time()\n",
        "\n",
        "model = SGDClassifier(loss='hinge', max_iter=1000, tol=0.1)\n",
        "model.fit(X = X_train, y = y_train)\n",
        "prediction = model.predict(X_test)\n",
        "scores = cross_val_score(model, df_features, np.ravel(df_target), cv=5)\n",
        "\n",
        "end = time.time()\n",
        "\n",
        "accuracy_all.append(accuracy_score(prediction, y_test))\n",
        "cvs_all.append(np.mean(scores))\n",
        "\n",
        "print(\"SGD Classifier Accuracy: {0:.2%}\".format(accuracy_score(prediction, y_test)))\n",
        "print(\"Cross validation score: {0:.2%} (+/- {1:.2%})\".format(np.mean(scores), np.std(scores)*2))\n",
        "print(\"Execution time: {0:.5} seconds\".format(end-start))"
      ],
      "execution_count": 35,
      "outputs": [
        {
          "output_type": "stream",
          "text": [
            "SGD Classifier Accuracy: 73.68%\n",
            "Cross validation score: 89.45% (+/- 9.47%)\n",
            "Execution time: 0.02992 seconds\n"
          ],
          "name": "stdout"
        }
      ]
    },
    {
      "metadata": {
        "id": "f1SwmYEHt2MG",
        "colab_type": "code",
        "colab": {
          "base_uri": "https://localhost:8080/",
          "height": 72
        },
        "outputId": "ccb1c1c6-61aa-4f65-ebb4-ec726ee415f3"
      },
      "cell_type": "code",
      "source": [
        "# Support Vector Machines (SVMs)\n",
        "from sklearn.svm import SVC, LinearSVC\n",
        "\n",
        "accuracy_all = []\n",
        "cvs_all = [] \n",
        "\n",
        "start = time.time()\n",
        "\n",
        "model = SVC(kernel='linear', gamma='auto', random_state=42)\n",
        "model.fit(X = X_train, y = y_train)\n",
        "prediction = model.predict(X_test)\n",
        "scores = cross_val_score(model, df_features, np.ravel(df_target), cv=5)\n",
        "\n",
        "end = time.time()\n",
        "\n",
        "accuracy_all.append(accuracy_score(prediction, y_test))\n",
        "cvs_all.append(np.mean(scores))\n",
        "\n",
        "print(\"SVC Classifier Accuracy: {0:.2%}\".format(accuracy_score(prediction, y_test)))\n",
        "print(\"Cross validation score: {0:.2%} (+/- {1:.2%})\".format(np.mean(scores), np.std(scores)*2))\n",
        "print(\"Execution time: {0:.5} seconds\".format(end-start))"
      ],
      "execution_count": 62,
      "outputs": [
        {
          "output_type": "stream",
          "text": [
            "SVC Classifier Accuracy: 92.98%\n",
            "Cross validation score: 94.56% (+/- 3.74%)\n",
            "Execution time: 9.249 seconds\n"
          ],
          "name": "stdout"
        }
      ]
    },
    {
      "metadata": {
        "id": "Sknjjj_9rwre",
        "colab_type": "code",
        "colab": {
          "base_uri": "https://localhost:8080/",
          "height": 72
        },
        "outputId": "2cc66889-0659-4fa4-ea50-dfe12fafcc58"
      },
      "cell_type": "code",
      "source": [
        "# Nearest Neighbor\n",
        "from sklearn.neighbors import KNeighborsClassifier\n",
        "\n",
        "accuracy_all = []\n",
        "cvs_all = [] \n",
        "\n",
        "start = time.time()\n",
        "\n",
        "model = KNeighborsClassifier(n_neighbors=5)\n",
        "model.fit(X = X_train, y = y_train)\n",
        "prediction = model.predict(X_test)\n",
        "scores = cross_val_score(model, df_features, np.ravel(df_target), cv=5)\n",
        "\n",
        "end = time.time()\n",
        "\n",
        "accuracy_all.append(accuracy_score(prediction, y_test))\n",
        "cvs_all.append(np.mean(scores))\n",
        "\n",
        "print(\"K Nearest Neighbors (5) Classifier Accuracy: {0:.2%}\".format(accuracy_score(prediction, y_test)))\n",
        "print(\"Cross validation score: {0:.2%} (+/- {1:.2%})\".format(np.mean(scores), np.std(scores)*2))\n",
        "print(\"Execution time: {0:.5} seconds\".format(end-start))\n"
      ],
      "execution_count": 65,
      "outputs": [
        {
          "output_type": "stream",
          "text": [
            "K Nearest Neighbors (5) Classifier Accuracy: 91.81%\n",
            "Cross validation score: 92.80% (+/- 4.26%)\n",
            "Execution time: 0.031538 seconds\n"
          ],
          "name": "stdout"
        }
      ]
    },
    {
      "metadata": {
        "id": "iBL2EoOcr1Yh",
        "colab_type": "code",
        "colab": {
          "base_uri": "https://localhost:8080/",
          "height": 72
        },
        "outputId": "ff8d7048-b191-4775-e895-fa3a18c910d4"
      },
      "cell_type": "code",
      "source": [
        "# Naive-Bayes\n",
        "\n",
        "from sklearn.naive_bayes import GaussianNB\n",
        "\n",
        "accuracy_all = []\n",
        "cvs_all = [] \n",
        "\n",
        "start = time.time()\n",
        "\n",
        "model = GaussianNB()\n",
        "model.fit(X = X_train, y = y_train)\n",
        "prediction = model.predict(X_test)\n",
        "scores = cross_val_score(model, df_features, np.ravel(df_target), cv=5)\n",
        "\n",
        "end = time.time()\n",
        "\n",
        "accuracy_all.append(accuracy_score(prediction, y_test))\n",
        "cvs_all.append(np.mean(scores))\n",
        "\n",
        "print(\"Naive-Bayes Classifier Accuracy: {0:.2%}\".format(accuracy_score(prediction, y_test)))\n",
        "print(\"Cross validation score: {0:.2%} (+/- {1:.2%})\".format(np.mean(scores), np.std(scores)*2))\n",
        "print(\"Execution time: {0:.5} seconds\".format(end-start))\n"
      ],
      "execution_count": 68,
      "outputs": [
        {
          "output_type": "stream",
          "text": [
            "Naive-Bayes Classifier Accuracy: 91.23%\n",
            "Cross validation score: 94.04% (+/- 3.11%)\n",
            "Execution time: 0.019174 seconds\n"
          ],
          "name": "stdout"
        }
      ]
    },
    {
      "metadata": {
        "id": "3GhxfIN9r5mM",
        "colab_type": "code",
        "colab": {
          "base_uri": "https://localhost:8080/",
          "height": 72
        },
        "outputId": "1ddabc40-5198-4fe7-efb0-dc32e71f0fa3"
      },
      "cell_type": "code",
      "source": [
        "# Random Forest\n",
        "from sklearn.ensemble import RandomForestClassifier\n",
        "\n",
        "accuracy_all = []\n",
        "cvs_all = [] \n",
        "\n",
        "start = time.time()\n",
        "\n",
        "model = RandomForestClassifier(n_estimators = 100)\n",
        "model.fit(X = X_train, y = y_train)\n",
        "prediction = model.predict(X_test)\n",
        "scores = cross_val_score(model, df_features, np.ravel(df_target), cv=5)\n",
        "\n",
        "end = time.time()\n",
        "\n",
        "accuracy_all.append(accuracy_score(prediction, y_test))\n",
        "cvs_all.append(np.mean(scores))\n",
        "\n",
        "print(\"Random Forest Classifier Accuracy: {0:.2%}\".format(accuracy_score(prediction, y_test)))\n",
        "print(\"Cross validation score: {0:.2%} (+/- {1:.2%})\".format(np.mean(scores), np.std(scores)*2))\n",
        "print(\"Execution time: {0:.5} seconds\".format(end-start))\n"
      ],
      "execution_count": 71,
      "outputs": [
        {
          "output_type": "stream",
          "text": [
            "Random Forest Classifier Accuracy: 94.74%\n",
            "Cross validation score: 96.15% (+/- 3.71%)\n",
            "Execution time: 0.8876 seconds\n"
          ],
          "name": "stdout"
        }
      ]
    },
    {
      "metadata": {
        "id": "_GulkjCO4P1j",
        "colab_type": "code",
        "colab": {
          "base_uri": "https://localhost:8080/",
          "height": 3141
        },
        "outputId": "1b33fd18-2f87-427c-b00c-7870bf06cc09"
      },
      "cell_type": "code",
      "source": [
        "# Grid search example using SVM\n",
        "\n",
        "from sklearn.metrics import classification_report\n",
        "model = SVC(kernel='linear', gamma='auto', random_state=42)\n",
        "model.fit(X = X_train, y = y_train)\n",
        "prediction = model.predict(X_test)\n",
        "scores = cross_val_score(model, df_features, np.ravel(df_target), cv=5)\n",
        "\n",
        "print(classification_report(y_test, prediction))\n",
        "\n",
        "param_grid = {'C':[0.1, 1, 10, 100, 1000], 'gamma':[1, 0.1, 0.01, 0.001, 0.0001], 'kernel':['linear']}\n",
        "\n",
        "from sklearn.model_selection import GridSearchCV\n",
        "\n",
        "grid = GridSearchCV(SVC(), param_grid, refit=True, verbose=3)\n",
        "\n",
        "grid.fit(X_train, y_train)\n",
        "\n",
        "print('\\n')\n",
        "print('The best parameters are ', grid.best_params_)\n"
      ],
      "execution_count": 74,
      "outputs": [
        {
          "output_type": "stream",
          "text": [
            "              precision    recall  f1-score   support\n",
            "\n",
            "           0       0.91      0.91      0.91        65\n",
            "           1       0.94      0.94      0.94       106\n",
            "\n",
            "   micro avg       0.93      0.93      0.93       171\n",
            "   macro avg       0.93      0.93      0.93       171\n",
            "weighted avg       0.93      0.93      0.93       171\n",
            "\n",
            "Fitting 3 folds for each of 25 candidates, totalling 75 fits\n",
            "[CV] C=0.1, gamma=1, kernel=linear ...................................\n",
            "[CV]  C=0.1, gamma=1, kernel=linear, score=0.9473684210526315, total=   0.0s\n",
            "[CV] C=0.1, gamma=1, kernel=linear ...................................\n",
            "[CV]  C=0.1, gamma=1, kernel=linear, score=0.9774436090225563, total=   0.0s\n",
            "[CV] C=0.1, gamma=1, kernel=linear ...................................\n",
            "[CV]  C=0.1, gamma=1, kernel=linear, score=0.9696969696969697, total=   0.0s\n",
            "[CV] C=0.1, gamma=0.1, kernel=linear .................................\n",
            "[CV]  C=0.1, gamma=0.1, kernel=linear, score=0.9473684210526315, total=   0.0s\n",
            "[CV] C=0.1, gamma=0.1, kernel=linear .................................\n",
            "[CV]  C=0.1, gamma=0.1, kernel=linear, score=0.9774436090225563, total=   0.0s\n",
            "[CV] C=0.1, gamma=0.1, kernel=linear .................................\n"
          ],
          "name": "stdout"
        },
        {
          "output_type": "stream",
          "text": [
            "/usr/local/lib/python3.6/dist-packages/sklearn/model_selection/_split.py:2053: FutureWarning: You should specify a value for 'cv' instead of relying on the default value. The default value will change from 3 to 5 in version 0.22.\n",
            "  warnings.warn(CV_WARNING, FutureWarning)\n",
            "[Parallel(n_jobs=1)]: Using backend SequentialBackend with 1 concurrent workers.\n",
            "[Parallel(n_jobs=1)]: Done   1 out of   1 | elapsed:    0.0s remaining:    0.0s\n",
            "[Parallel(n_jobs=1)]: Done   2 out of   2 | elapsed:    0.1s remaining:    0.0s\n"
          ],
          "name": "stderr"
        },
        {
          "output_type": "stream",
          "text": [
            "[CV]  C=0.1, gamma=0.1, kernel=linear, score=0.9696969696969697, total=   0.1s\n",
            "[CV] C=0.1, gamma=0.01, kernel=linear ................................\n",
            "[CV]  C=0.1, gamma=0.01, kernel=linear, score=0.9473684210526315, total=   0.0s\n",
            "[CV] C=0.1, gamma=0.01, kernel=linear ................................\n",
            "[CV]  C=0.1, gamma=0.01, kernel=linear, score=0.9774436090225563, total=   0.0s\n",
            "[CV] C=0.1, gamma=0.01, kernel=linear ................................\n",
            "[CV]  C=0.1, gamma=0.01, kernel=linear, score=0.9696969696969697, total=   0.0s\n",
            "[CV] C=0.1, gamma=0.001, kernel=linear ...............................\n",
            "[CV]  C=0.1, gamma=0.001, kernel=linear, score=0.9473684210526315, total=   0.0s\n",
            "[CV] C=0.1, gamma=0.001, kernel=linear ...............................\n",
            "[CV]  C=0.1, gamma=0.001, kernel=linear, score=0.9774436090225563, total=   0.0s\n",
            "[CV] C=0.1, gamma=0.001, kernel=linear ...............................\n",
            "[CV]  C=0.1, gamma=0.001, kernel=linear, score=0.9696969696969697, total=   0.0s\n",
            "[CV] C=0.1, gamma=0.0001, kernel=linear ..............................\n",
            "[CV]  C=0.1, gamma=0.0001, kernel=linear, score=0.9473684210526315, total=   0.0s\n",
            "[CV] C=0.1, gamma=0.0001, kernel=linear ..............................\n",
            "[CV]  C=0.1, gamma=0.0001, kernel=linear, score=0.9774436090225563, total=   0.0s\n",
            "[CV] C=0.1, gamma=0.0001, kernel=linear ..............................\n",
            "[CV]  C=0.1, gamma=0.0001, kernel=linear, score=0.9696969696969697, total=   0.0s\n",
            "[CV] C=1, gamma=1, kernel=linear .....................................\n",
            "[CV]  C=1, gamma=1, kernel=linear, score=0.9548872180451128, total=   0.2s\n",
            "[CV] C=1, gamma=1, kernel=linear .....................................\n",
            "[CV]  C=1, gamma=1, kernel=linear, score=0.9774436090225563, total=   0.3s\n",
            "[CV] C=1, gamma=1, kernel=linear .....................................\n",
            "[CV]  C=1, gamma=1, kernel=linear, score=0.9696969696969697, total=   1.3s\n",
            "[CV] C=1, gamma=0.1, kernel=linear ...................................\n",
            "[CV]  C=1, gamma=0.1, kernel=linear, score=0.9548872180451128, total=   0.1s\n",
            "[CV] C=1, gamma=0.1, kernel=linear ...................................\n",
            "[CV]  C=1, gamma=0.1, kernel=linear, score=0.9774436090225563, total=   0.3s\n",
            "[CV] C=1, gamma=0.1, kernel=linear ...................................\n",
            "[CV]  C=1, gamma=0.1, kernel=linear, score=0.9696969696969697, total=   1.3s\n",
            "[CV] C=1, gamma=0.01, kernel=linear ..................................\n",
            "[CV]  C=1, gamma=0.01, kernel=linear, score=0.9548872180451128, total=   0.1s\n",
            "[CV] C=1, gamma=0.01, kernel=linear ..................................\n",
            "[CV]  C=1, gamma=0.01, kernel=linear, score=0.9774436090225563, total=   0.3s\n",
            "[CV] C=1, gamma=0.01, kernel=linear ..................................\n",
            "[CV]  C=1, gamma=0.01, kernel=linear, score=0.9696969696969697, total=   1.3s\n",
            "[CV] C=1, gamma=0.001, kernel=linear .................................\n",
            "[CV]  C=1, gamma=0.001, kernel=linear, score=0.9548872180451128, total=   0.1s\n",
            "[CV] C=1, gamma=0.001, kernel=linear .................................\n",
            "[CV]  C=1, gamma=0.001, kernel=linear, score=0.9774436090225563, total=   0.3s\n",
            "[CV] C=1, gamma=0.001, kernel=linear .................................\n",
            "[CV]  C=1, gamma=0.001, kernel=linear, score=0.9696969696969697, total=   1.3s\n",
            "[CV] C=1, gamma=0.0001, kernel=linear ................................\n",
            "[CV]  C=1, gamma=0.0001, kernel=linear, score=0.9548872180451128, total=   0.1s\n",
            "[CV] C=1, gamma=0.0001, kernel=linear ................................\n",
            "[CV]  C=1, gamma=0.0001, kernel=linear, score=0.9774436090225563, total=   0.3s\n",
            "[CV] C=1, gamma=0.0001, kernel=linear ................................\n",
            "[CV]  C=1, gamma=0.0001, kernel=linear, score=0.9696969696969697, total=   1.3s\n",
            "[CV] C=10, gamma=1, kernel=linear ....................................\n",
            "[CV]  C=10, gamma=1, kernel=linear, score=0.9624060150375939, total=   3.0s\n",
            "[CV] C=10, gamma=1, kernel=linear ....................................\n",
            "[CV]  C=10, gamma=1, kernel=linear, score=0.9774436090225563, total=   2.4s\n",
            "[CV] C=10, gamma=1, kernel=linear ....................................\n",
            "[CV]  C=10, gamma=1, kernel=linear, score=0.9696969696969697, total=   0.9s\n",
            "[CV] C=10, gamma=0.1, kernel=linear ..................................\n",
            "[CV]  C=10, gamma=0.1, kernel=linear, score=0.9624060150375939, total=   3.0s\n",
            "[CV] C=10, gamma=0.1, kernel=linear ..................................\n",
            "[CV]  C=10, gamma=0.1, kernel=linear, score=0.9774436090225563, total=   2.4s\n",
            "[CV] C=10, gamma=0.1, kernel=linear ..................................\n",
            "[CV]  C=10, gamma=0.1, kernel=linear, score=0.9696969696969697, total=   0.9s\n",
            "[CV] C=10, gamma=0.01, kernel=linear .................................\n",
            "[CV]  C=10, gamma=0.01, kernel=linear, score=0.9624060150375939, total=   3.0s\n",
            "[CV] C=10, gamma=0.01, kernel=linear .................................\n",
            "[CV]  C=10, gamma=0.01, kernel=linear, score=0.9774436090225563, total=   2.4s\n",
            "[CV] C=10, gamma=0.01, kernel=linear .................................\n",
            "[CV]  C=10, gamma=0.01, kernel=linear, score=0.9696969696969697, total=   0.9s\n",
            "[CV] C=10, gamma=0.001, kernel=linear ................................\n",
            "[CV]  C=10, gamma=0.001, kernel=linear, score=0.9624060150375939, total=   3.0s\n",
            "[CV] C=10, gamma=0.001, kernel=linear ................................\n",
            "[CV]  C=10, gamma=0.001, kernel=linear, score=0.9774436090225563, total=   2.4s\n",
            "[CV] C=10, gamma=0.001, kernel=linear ................................\n",
            "[CV]  C=10, gamma=0.001, kernel=linear, score=0.9696969696969697, total=   0.9s\n",
            "[CV] C=10, gamma=0.0001, kernel=linear ...............................\n",
            "[CV]  C=10, gamma=0.0001, kernel=linear, score=0.9624060150375939, total=   3.0s\n",
            "[CV] C=10, gamma=0.0001, kernel=linear ...............................\n",
            "[CV]  C=10, gamma=0.0001, kernel=linear, score=0.9774436090225563, total=   2.4s\n",
            "[CV] C=10, gamma=0.0001, kernel=linear ...............................\n",
            "[CV]  C=10, gamma=0.0001, kernel=linear, score=0.9696969696969697, total=   0.9s\n",
            "[CV] C=100, gamma=1, kernel=linear ...................................\n",
            "[CV]  C=100, gamma=1, kernel=linear, score=0.9774436090225563, total=   1.9s\n",
            "[CV] C=100, gamma=1, kernel=linear ...................................\n",
            "[CV]  C=100, gamma=1, kernel=linear, score=0.9624060150375939, total=   7.8s\n",
            "[CV] C=100, gamma=1, kernel=linear ...................................\n",
            "[CV]  C=100, gamma=1, kernel=linear, score=0.9772727272727273, total=   2.5s\n",
            "[CV] C=100, gamma=0.1, kernel=linear .................................\n",
            "[CV]  C=100, gamma=0.1, kernel=linear, score=0.9774436090225563, total=   1.9s\n",
            "[CV] C=100, gamma=0.1, kernel=linear .................................\n",
            "[CV]  C=100, gamma=0.1, kernel=linear, score=0.9624060150375939, total=   8.0s\n",
            "[CV] C=100, gamma=0.1, kernel=linear .................................\n",
            "[CV]  C=100, gamma=0.1, kernel=linear, score=0.9772727272727273, total=   2.5s\n",
            "[CV] C=100, gamma=0.01, kernel=linear ................................\n",
            "[CV]  C=100, gamma=0.01, kernel=linear, score=0.9774436090225563, total=   1.9s\n",
            "[CV] C=100, gamma=0.01, kernel=linear ................................\n",
            "[CV]  C=100, gamma=0.01, kernel=linear, score=0.9624060150375939, total=   8.1s\n",
            "[CV] C=100, gamma=0.01, kernel=linear ................................\n",
            "[CV]  C=100, gamma=0.01, kernel=linear, score=0.9772727272727273, total=   2.5s\n",
            "[CV] C=100, gamma=0.001, kernel=linear ...............................\n",
            "[CV]  C=100, gamma=0.001, kernel=linear, score=0.9774436090225563, total=   1.9s\n",
            "[CV] C=100, gamma=0.001, kernel=linear ...............................\n",
            "[CV]  C=100, gamma=0.001, kernel=linear, score=0.9624060150375939, total=   8.0s\n",
            "[CV] C=100, gamma=0.001, kernel=linear ...............................\n",
            "[CV]  C=100, gamma=0.001, kernel=linear, score=0.9772727272727273, total=   2.5s\n",
            "[CV] C=100, gamma=0.0001, kernel=linear ..............................\n",
            "[CV]  C=100, gamma=0.0001, kernel=linear, score=0.9774436090225563, total=   1.8s\n",
            "[CV] C=100, gamma=0.0001, kernel=linear ..............................\n",
            "[CV]  C=100, gamma=0.0001, kernel=linear, score=0.9624060150375939, total=   7.7s\n",
            "[CV] C=100, gamma=0.0001, kernel=linear ..............................\n",
            "[CV]  C=100, gamma=0.0001, kernel=linear, score=0.9772727272727273, total=   2.5s\n",
            "[CV] C=1000, gamma=1, kernel=linear ..................................\n",
            "[CV]  C=1000, gamma=1, kernel=linear, score=0.9699248120300752, total=   3.0s\n",
            "[CV] C=1000, gamma=1, kernel=linear ..................................\n",
            "[CV]  C=1000, gamma=1, kernel=linear, score=0.9548872180451128, total=  32.6s\n",
            "[CV] C=1000, gamma=1, kernel=linear ..................................\n",
            "[CV]  C=1000, gamma=1, kernel=linear, score=0.9848484848484849, total=   4.1s\n",
            "[CV] C=1000, gamma=0.1, kernel=linear ................................\n",
            "[CV]  C=1000, gamma=0.1, kernel=linear, score=0.9699248120300752, total=   2.9s\n",
            "[CV] C=1000, gamma=0.1, kernel=linear ................................\n",
            "[CV]  C=1000, gamma=0.1, kernel=linear, score=0.9548872180451128, total=  33.0s\n",
            "[CV] C=1000, gamma=0.1, kernel=linear ................................\n",
            "[CV]  C=1000, gamma=0.1, kernel=linear, score=0.9848484848484849, total=   4.1s\n",
            "[CV] C=1000, gamma=0.01, kernel=linear ...............................\n",
            "[CV]  C=1000, gamma=0.01, kernel=linear, score=0.9699248120300752, total=   3.0s\n",
            "[CV] C=1000, gamma=0.01, kernel=linear ...............................\n",
            "[CV]  C=1000, gamma=0.01, kernel=linear, score=0.9548872180451128, total=  32.6s\n",
            "[CV] C=1000, gamma=0.01, kernel=linear ...............................\n",
            "[CV]  C=1000, gamma=0.01, kernel=linear, score=0.9848484848484849, total=   4.2s\n",
            "[CV] C=1000, gamma=0.001, kernel=linear ..............................\n",
            "[CV]  C=1000, gamma=0.001, kernel=linear, score=0.9699248120300752, total=   3.0s\n",
            "[CV] C=1000, gamma=0.001, kernel=linear ..............................\n",
            "[CV]  C=1000, gamma=0.001, kernel=linear, score=0.9548872180451128, total=  32.7s\n",
            "[CV] C=1000, gamma=0.001, kernel=linear ..............................\n",
            "[CV]  C=1000, gamma=0.001, kernel=linear, score=0.9848484848484849, total=   4.1s\n",
            "[CV] C=1000, gamma=0.0001, kernel=linear .............................\n",
            "[CV]  C=1000, gamma=0.0001, kernel=linear, score=0.9699248120300752, total=   3.0s\n",
            "[CV] C=1000, gamma=0.0001, kernel=linear .............................\n",
            "[CV]  C=1000, gamma=0.0001, kernel=linear, score=0.9548872180451128, total=  32.4s\n",
            "[CV] C=1000, gamma=0.0001, kernel=linear .............................\n",
            "[CV]  C=1000, gamma=0.0001, kernel=linear, score=0.9848484848484849, total=   4.0s\n"
          ],
          "name": "stdout"
        },
        {
          "output_type": "stream",
          "text": [
            "[Parallel(n_jobs=1)]: Done  75 out of  75 | elapsed:  5.0min finished\n"
          ],
          "name": "stderr"
        },
        {
          "output_type": "stream",
          "text": [
            "\n",
            "\n",
            "The best parameters are  {'C': 100, 'gamma': 1, 'kernel': 'linear'}\n"
          ],
          "name": "stdout"
        }
      ]
    },
    {
      "metadata": {
        "id": "k6cIjn1P4lEj",
        "colab_type": "code",
        "colab": {}
      },
      "cell_type": "code",
      "source": [
        "\n"
      ],
      "execution_count": 0,
      "outputs": []
    }
  ]
}